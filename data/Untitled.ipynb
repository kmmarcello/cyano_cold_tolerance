{
 "cells": [
  {
   "cell_type": "code",
   "execution_count": 1,
   "id": "f2958ad7",
   "metadata": {},
   "outputs": [],
   "source": [
    "from Bio import SeqIO\n",
    "from sqlalchemy import create_engine\n",
    "from Bio.SeqUtils.ProtParam import ProteinAnalysis"
   ]
  },
  {
   "cell_type": "code",
   "execution_count": 2,
   "id": "198768ab",
   "metadata": {},
   "outputs": [],
   "source": [
    "amino_acids = ['A', 'C', 'D', 'E', 'F', 'G', 'H', 'I', 'K', 'L', 'M', 'N',\n",
    "               'P', 'Q', 'R', 'S', 'T', 'V', 'W', 'Y']"
   ]
  },
  {
   "cell_type": "code",
   "execution_count": 3,
   "id": "a142ba1a",
   "metadata": {},
   "outputs": [],
   "source": [
    "def aa_count(sequence):\n",
    "    \"\"\" includes the amino acid counts, arg/lys ratio and\n",
    "        acidic residue counts\n",
    "    \"\"\"\n",
    "    count = ProteinAnalysis(sequence).count_amino_acids()\n",
    "    count_list = [count[aa] for aa in amino_acids]\n",
    "    arg_to_lys = float(count['R'])/count['K'] if count['K'] else 'N/A'\n",
    "    acid_res = count['D'] + count['E']\n",
    "    all_counts = \"{0}\\t{1}\\t{2}\\t{3}\\t{4}\\t{5}\\t{6}\\t{7}\\t{8}\\t{9}\\t\\\n",
    "{10}\\t{11}\\t{12}\\t{13}\\t{14}\\t{15}\\t{16}\\t{17}\\t{18}\\t\\\n",
    "{19}\\t{20}\\t{21}\".format(*(count_list+[arg_to_lys]+[acid_res]))\n",
    "    return all_counts"
   ]
  },
  {
   "cell_type": "code",
   "execution_count": null,
   "id": "6502c627",
   "metadata": {},
   "outputs": [],
   "source": []
  }
 ],
 "metadata": {
  "kernelspec": {
   "display_name": "Python 3 (ipykernel)",
   "language": "python",
   "name": "python3"
  },
  "language_info": {
   "codemirror_mode": {
    "name": "ipython",
    "version": 3
   },
   "file_extension": ".py",
   "mimetype": "text/x-python",
   "name": "python",
   "nbconvert_exporter": "python",
   "pygments_lexer": "ipython3",
   "version": "3.8.11"
  }
 },
 "nbformat": 4,
 "nbformat_minor": 5
}
